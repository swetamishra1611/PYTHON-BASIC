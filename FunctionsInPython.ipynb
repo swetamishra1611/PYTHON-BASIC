{
 "cells": [
  {
   "cell_type": "markdown",
   "id": "44207f4c",
   "metadata": {},
   "source": [
    "### Function Call"
   ]
  },
  {
   "cell_type": "code",
   "execution_count": 155,
   "id": "84673f4a",
   "metadata": {},
   "outputs": [],
   "source": [
    "def sheldon_knock():\n",
    "    print(\"knock knock knock Jatin\")\n",
    "    print(\"knock knock knock Jatin\")\n",
    "    print(\"knock knock knock Jatin\")"
   ]
  },
  {
   "cell_type": "code",
   "execution_count": 156,
   "id": "005a5db3",
   "metadata": {},
   "outputs": [
    {
     "name": "stdout",
     "output_type": "stream",
     "text": [
      "knock knock knock Jatin\n",
      "knock knock knock Jatin\n",
      "knock knock knock Jatin\n",
      "30\n",
      "0\n",
      "1\n",
      "2\n",
      "3\n",
      "4\n",
      "5\n",
      "6\n",
      "7\n",
      "8\n",
      "9\n",
      "knock knock knock Jatin\n",
      "knock knock knock Jatin\n",
      "knock knock knock Jatin\n"
     ]
    }
   ],
   "source": [
    "sheldon_knock()\n",
    "print(10+20)\n",
    "for i in range(10):\n",
    "    print(i)\n",
    "sheldon_knock()"
   ]
  },
  {
   "cell_type": "code",
   "execution_count": 157,
   "id": "cc9f7b5b",
   "metadata": {},
   "outputs": [],
   "source": [
    "def sheldon_knock(name,number_of_time):\n",
    "    for i in range(number_of_time):\n",
    "        print(\"knock knock knock{}\".format(name))"
   ]
  },
  {
   "cell_type": "code",
   "execution_count": 158,
   "id": "0937ad35",
   "metadata": {},
   "outputs": [
    {
     "name": "stdout",
     "output_type": "stream",
     "text": [
      "knock knock knockpenny\n",
      "knock knock knockpenny\n",
      "knock knock knockpenny\n",
      "knock knock knockpenny\n",
      "knock knock knockpenny\n",
      "knock knock knockpenny\n",
      "knock knock knockpenny\n",
      "knock knock knockpenny\n",
      "knock knock knockpenny\n",
      "knock knock knockpenny\n"
     ]
    }
   ],
   "source": [
    "sheldon_knock(\"penny\",10)"
   ]
  },
  {
   "cell_type": "code",
   "execution_count": 159,
   "id": "02dcda3f",
   "metadata": {},
   "outputs": [],
   "source": [
    "def add(a,b):\n",
    "    return a+b"
   ]
  },
  {
   "cell_type": "code",
   "execution_count": 160,
   "id": "f68c18d8",
   "metadata": {},
   "outputs": [
    {
     "name": "stdout",
     "output_type": "stream",
     "text": [
      "3\n"
     ]
    }
   ],
   "source": [
    "x=add(1,2)\n",
    "print(x)"
   ]
  },
  {
   "cell_type": "code",
   "execution_count": 161,
   "id": "5c1c5979",
   "metadata": {},
   "outputs": [],
   "source": [
    "def div (a,b):\n",
    "    try:\n",
    "        return a/b\n",
    "    except:\n",
    "        print('Error')\n",
    "    finally:\n",
    "        print('wrapping up')\n",
    "        "
   ]
  },
  {
   "cell_type": "code",
   "execution_count": 162,
   "id": "e4033c91",
   "metadata": {},
   "outputs": [
    {
     "name": "stdout",
     "output_type": "stream",
     "text": [
      "wrapping up\n"
     ]
    },
    {
     "data": {
      "text/plain": [
       "6.0"
      ]
     },
     "execution_count": 162,
     "metadata": {},
     "output_type": "execute_result"
    }
   ],
   "source": [
    "div(6,1)"
   ]
  },
  {
   "cell_type": "markdown",
   "id": "644c66ae",
   "metadata": {},
   "source": [
    "### LOCAL AND GLOBAL VARIABLE"
   ]
  },
  {
   "cell_type": "code",
   "execution_count": 163,
   "id": "8509e5ef",
   "metadata": {},
   "outputs": [],
   "source": [
    "x=10\n",
    "def show():\n",
    "    global x\n",
    "    x += 5\n",
    "    print(x)"
   ]
  },
  {
   "cell_type": "code",
   "execution_count": 164,
   "id": "d28ba82a",
   "metadata": {},
   "outputs": [
    {
     "name": "stdout",
     "output_type": "stream",
     "text": [
      "15\n",
      "15\n"
     ]
    }
   ],
   "source": [
    "show()\n",
    "print(x)"
   ]
  },
  {
   "cell_type": "markdown",
   "id": "3b67cf71",
   "metadata": {},
   "source": [
    "### Default Arguments"
   ]
  },
  {
   "cell_type": "code",
   "execution_count": 165,
   "id": "29cea584",
   "metadata": {},
   "outputs": [],
   "source": [
    "def show(a,b,c):\n",
    "    print(a)\n",
    "    print(b)\n",
    "    print(c)"
   ]
  },
  {
   "cell_type": "code",
   "execution_count": 166,
   "id": "fb6aeb38",
   "metadata": {},
   "outputs": [
    {
     "name": "stdout",
     "output_type": "stream",
     "text": [
      "HII\n",
      "WORLD\n",
      "PYTHON\n"
     ]
    }
   ],
   "source": [
    "show(\"HII\", \"WORLD\",\"PYTHON\")"
   ]
  }
 ],
 "metadata": {
  "kernelspec": {
   "display_name": "Python 3 (ipykernel)",
   "language": "python",
   "name": "python3"
  },
  "language_info": {
   "codemirror_mode": {
    "name": "ipython",
    "version": 3
   },
   "file_extension": ".py",
   "mimetype": "text/x-python",
   "name": "python",
   "nbconvert_exporter": "python",
   "pygments_lexer": "ipython3",
   "version": "3.9.5"
  }
 },
 "nbformat": 4,
 "nbformat_minor": 5
}
